{
 "cells": [
  {
   "cell_type": "code",
   "execution_count": 115,
   "id": "f9832b3e",
   "metadata": {},
   "outputs": [],
   "source": [
    "import numpy as np\n",
    "import pandas as pd\n",
    "import matplotlib.pyplot as plt\n",
    "import seaborn as sns\n",
    "import warnings\n",
    "%matplotlib inline\n",
    "warnings.filterwarnings('ignore')\n",
    "from sklearn.metrics import mean_squared_error,r2_score,mean_absolute_error\n",
    "from sklearn.ensemble import RandomForestRegressor,AdaBoostRegressor\n",
    "from sklearn.svm import SVR\n",
    "from sklearn.tree import DecisionTreeRegressor\n",
    "from sklearn.neighbors import KNeighborsRegressor\n",
    "from sklearn.linear_model import Lasso,Ridge,LinearRegression\n",
    "from sklearn.model_selection import RandomizedSearchCV\n",
    "from xgboost import XGBRegressor\n",
    "from catboost import CatBoostRegressor"
   ]
  },
  {
   "cell_type": "code",
   "execution_count": 116,
   "id": "9c739d84",
   "metadata": {},
   "outputs": [],
   "source": [
    "df =pd.read_csv(\"data/stud.csv\")"
   ]
  },
  {
   "cell_type": "code",
   "execution_count": 117,
   "id": "8b8ae22e",
   "metadata": {},
   "outputs": [],
   "source": [
    "x =df.drop(columns='math_score',axis =1)\n",
    "y= df['math_score']"
   ]
  },
  {
   "cell_type": "code",
   "execution_count": 118,
   "id": "5bf2bea9",
   "metadata": {},
   "outputs": [],
   "source": [
    "num_features =x.select_dtypes(exclude='object').columns\n",
    "cat_features =x.select_dtypes(include='object').columns\n",
    "from sklearn.compose import ColumnTransformer\n",
    "from sklearn.preprocessing import OneHotEncoder,StandardScaler\n",
    "oh_transformer = OneHotEncoder()\n",
    "num_transformer =StandardScaler()\n",
    "\n",
    "preprocessor = ColumnTransformer(\n",
    "\n",
    "    [('OneHotEncoder',oh_transformer,cat_features),\n",
    "     ('standardscaler', num_transformer,num_features)\n",
    "    ]\n",
    ")"
   ]
  },
  {
   "cell_type": "code",
   "execution_count": 119,
   "id": "9bd956f3",
   "metadata": {},
   "outputs": [],
   "source": [
    "x=preprocessor.fit_transform(x)\n"
   ]
  },
  {
   "cell_type": "code",
   "execution_count": 120,
   "id": "0067d4b2",
   "metadata": {},
   "outputs": [
    {
     "data": {
      "text/plain": [
       "array([[ 1.        ,  0.        ,  0.        , ...,  1.        ,\n",
       "         0.19399858,  0.39149181],\n",
       "       [ 1.        ,  0.        ,  0.        , ...,  0.        ,\n",
       "         1.42747598,  1.31326868],\n",
       "       [ 1.        ,  0.        ,  0.        , ...,  1.        ,\n",
       "         1.77010859,  1.64247471],\n",
       "       ...,\n",
       "       [ 1.        ,  0.        ,  0.        , ...,  0.        ,\n",
       "         0.12547206, -0.20107904],\n",
       "       [ 1.        ,  0.        ,  0.        , ...,  0.        ,\n",
       "         0.60515772,  0.58901542],\n",
       "       [ 1.        ,  0.        ,  0.        , ...,  1.        ,\n",
       "         1.15336989,  1.18158627]], shape=(1000, 19))"
      ]
     },
     "execution_count": 120,
     "metadata": {},
     "output_type": "execute_result"
    }
   ],
   "source": [
    "x"
   ]
  },
  {
   "cell_type": "code",
   "execution_count": 121,
   "id": "f5a524ad",
   "metadata": {},
   "outputs": [
    {
     "data": {
      "text/plain": [
       "(1000, 19)"
      ]
     },
     "execution_count": 121,
     "metadata": {},
     "output_type": "execute_result"
    }
   ],
   "source": [
    "x.shape"
   ]
  },
  {
   "cell_type": "code",
   "execution_count": 122,
   "id": "eba3f990",
   "metadata": {},
   "outputs": [],
   "source": [
    "from sklearn.model_selection import train_test_split\n",
    "x_train,x_test,y_train,y_test= train_test_split(x,y,test_size =0.25,random_state=42)"
   ]
  },
  {
   "cell_type": "code",
   "execution_count": 123,
   "id": "f5971bc4",
   "metadata": {},
   "outputs": [],
   "source": [
    "def evaluate_model(true,predicted):\n",
    "    mae=mean_absolute_error(true,predicted)\n",
    "    mse =mean_squared_error(true,predicted)\n",
    "    rmse = np.sqrt(mean_squared_error(true,predicted))\n",
    "    r2_scr= r2_score(true,predicted)\n",
    "    return mae,rmse,r2_scr"
   ]
  },
  {
   "cell_type": "code",
   "execution_count": 124,
   "id": "314aca40",
   "metadata": {},
   "outputs": [],
   "source": [
    "models = {\n",
    "    \"LinearRegression\": LinearRegression(),\n",
    "    \"Lasso\": Lasso(),\n",
    "    \"Ridge\": Ridge(),\n",
    "    \"K-Neighbors Regressor\": KNeighborsRegressor(),\n",
    "    \"Decision Tree\": DecisionTreeRegressor(),\n",
    "    \"Random Forest Regressor\": RandomForestRegressor(),\n",
    "    \"XGBRegressor\": XGBRegressor(), \n",
    "    \"CatBoosting Regressor\": CatBoostRegressor(verbose=False),\n",
    "    \"AdaBoost Regressor\": AdaBoostRegressor()\n",
    "}"
   ]
  },
  {
   "cell_type": "code",
   "execution_count": 125,
   "id": "dfbfcb9d",
   "metadata": {},
   "outputs": [],
   "source": [
    "model_list=[]\n",
    "r2_list=[]"
   ]
  },
  {
   "cell_type": "code",
   "execution_count": 126,
   "id": "1f2a92b0",
   "metadata": {},
   "outputs": [
    {
     "data": {
      "text/plain": [
       "dict_values([LinearRegression(), Lasso(), Ridge(), KNeighborsRegressor(), DecisionTreeRegressor(), RandomForestRegressor(), XGBRegressor(base_score=None, booster=None, callbacks=None,\n",
       "             colsample_bylevel=None, colsample_bynode=None,\n",
       "             colsample_bytree=None, device=None, early_stopping_rounds=None,\n",
       "             enable_categorical=False, eval_metric=None, feature_types=None,\n",
       "             feature_weights=None, gamma=None, grow_policy=None,\n",
       "             importance_type=None, interaction_constraints=None,\n",
       "             learning_rate=None, max_bin=None, max_cat_threshold=None,\n",
       "             max_cat_to_onehot=None, max_delta_step=None, max_depth=None,\n",
       "             max_leaves=None, min_child_weight=None, missing=nan,\n",
       "             monotone_constraints=None, multi_strategy=None, n_estimators=None,\n",
       "             n_jobs=None, num_parallel_tree=None, ...), <catboost.core.CatBoostRegressor object at 0x0000021C5FD3EEA0>, AdaBoostRegressor()])"
      ]
     },
     "execution_count": 126,
     "metadata": {},
     "output_type": "execute_result"
    }
   ],
   "source": [
    "models.values()"
   ]
  },
  {
   "cell_type": "code",
   "execution_count": 127,
   "id": "a4facb4c",
   "metadata": {},
   "outputs": [
    {
     "name": "stdout",
     "output_type": "stream",
     "text": [
      "LinearRegression\n",
      "model performance for training dataset\n",
      "mean_absolute_error: 4.2383\n",
      "root mean squared error: 5.2972\n",
      "r2_score: 0.8743\n",
      "\n",
      "\n",
      "---------------------------------------\n",
      "\n",
      "\n",
      "model performance for test dataset\n",
      "mean_absolute_error: 4.3379\n",
      "root mean squared error: 5.4825\n",
      "r2_score: 0.8778 \n",
      "===================================\n",
      "\n",
      "\n",
      "Lasso\n",
      "model performance for training dataset\n",
      "mean_absolute_error: 5.1837\n",
      "root mean squared error: 6.5515\n",
      "r2_score: 0.8077\n",
      "\n",
      "\n",
      "---------------------------------------\n",
      "\n",
      "\n",
      "model performance for test dataset\n",
      "mean_absolute_error: 5.2217\n",
      "root mean squared error: 6.6541\n",
      "r2_score: 0.8200 \n",
      "===================================\n",
      "\n",
      "\n",
      "Ridge\n",
      "model performance for training dataset\n",
      "mean_absolute_error: 4.2368\n",
      "root mean squared error: 5.2976\n",
      "r2_score: 0.8743\n",
      "\n",
      "\n",
      "---------------------------------------\n",
      "\n",
      "\n",
      "model performance for test dataset\n",
      "mean_absolute_error: 4.3354\n",
      "root mean squared error: 5.4788\n",
      "r2_score: 0.8780 \n",
      "===================================\n",
      "\n",
      "\n",
      "K-Neighbors Regressor\n",
      "model performance for training dataset\n",
      "mean_absolute_error: 4.5864\n",
      "root mean squared error: 5.7920\n",
      "r2_score: 0.8497\n",
      "\n",
      "\n",
      "---------------------------------------\n",
      "\n",
      "\n",
      "model performance for test dataset\n",
      "mean_absolute_error: 5.5208\n",
      "root mean squared error: 7.1327\n",
      "r2_score: 0.7932 \n",
      "===================================\n",
      "\n",
      "\n",
      "Decision Tree\n",
      "model performance for training dataset\n",
      "mean_absolute_error: 0.0200\n",
      "root mean squared error: 0.2887\n",
      "r2_score: 0.9996\n",
      "\n",
      "\n",
      "---------------------------------------\n",
      "\n",
      "\n",
      "model performance for test dataset\n",
      "mean_absolute_error: 6.2040\n",
      "root mean squared error: 7.7426\n",
      "r2_score: 0.7563 \n",
      "===================================\n",
      "\n",
      "\n",
      "Random Forest Regressor\n",
      "model performance for training dataset\n",
      "mean_absolute_error: 1.8212\n",
      "root mean squared error: 2.2935\n",
      "r2_score: 0.9764\n",
      "\n",
      "\n",
      "---------------------------------------\n",
      "\n",
      "\n",
      "model performance for test dataset\n",
      "mean_absolute_error: 4.7536\n",
      "root mean squared error: 6.0751\n",
      "r2_score: 0.8500 \n",
      "===================================\n",
      "\n",
      "\n",
      "XGBRegressor\n",
      "model performance for training dataset\n",
      "mean_absolute_error: 0.5772\n",
      "root mean squared error: 0.8783\n",
      "r2_score: 0.9965\n",
      "\n",
      "\n",
      "---------------------------------------\n",
      "\n",
      "\n",
      "model performance for test dataset\n",
      "mean_absolute_error: 4.9605\n",
      "root mean squared error: 6.3464\n",
      "r2_score: 0.8363 \n",
      "===================================\n",
      "\n",
      "\n",
      "CatBoosting Regressor\n",
      "model performance for training dataset\n",
      "mean_absolute_error: 2.3221\n",
      "root mean squared error: 2.9444\n",
      "r2_score: 0.9612\n",
      "\n",
      "\n",
      "---------------------------------------\n",
      "\n",
      "\n",
      "model performance for test dataset\n",
      "mean_absolute_error: 4.6508\n",
      "root mean squared error: 5.9762\n",
      "r2_score: 0.8548 \n",
      "===================================\n",
      "\n",
      "\n",
      "AdaBoost Regressor\n",
      "model performance for training dataset\n",
      "mean_absolute_error: 4.7389\n",
      "root mean squared error: 5.7686\n",
      "r2_score: 0.8509\n",
      "\n",
      "\n",
      "---------------------------------------\n",
      "\n",
      "\n",
      "model performance for test dataset\n",
      "mean_absolute_error: 4.9723\n",
      "root mean squared error: 6.3739\n",
      "r2_score: 0.8349 \n",
      "===================================\n",
      "\n",
      "\n"
     ]
    }
   ],
   "source": [
    "for i in range(len(list(models))):\n",
    "    model = list(models.values())[i]\n",
    "    model.fit(x_train,y_train)\n",
    "    y_train_pred = model.predict(x_train)\n",
    "    y_test_pred =model.predict(x_test)\n",
    "     \n",
    "    model_train_mae,model_train_rmse,model_train_r2= evaluate_model(y_train,y_train_pred)  \n",
    "    model_test_mae,model_test_rmse,model_test_r2= evaluate_model(y_test,y_test_pred) \n",
    "\n",
    "    print(list(models.keys())[i])\n",
    "    model_list.append(list(models.keys())[i])\n",
    "    \n",
    "    print('model performance for training dataset')\n",
    "    print('mean_absolute_error: {:.4f}'.format(model_train_mae))\n",
    "    print('root mean squared error: {:.4f}'.format(model_train_rmse))\n",
    "    print('r2_score: {:.4f}'.format(model_train_r2))\n",
    "    print('\\n')\n",
    "    print('---------------------------------------')\n",
    "    print('\\n')\n",
    "    print('model performance for test dataset')\n",
    "    print('mean_absolute_error: {:.4f}'.format(model_test_mae))\n",
    "    print('root mean squared error: {:.4f}'.format(model_test_rmse))\n",
    "    print('r2_score: {:.4f} '.format(model_test_r2))\n",
    "    r2_list.append(model_test_r2)\n",
    "    print('='*35)\n",
    "    print('\\n')\n"
   ]
  },
  {
   "cell_type": "code",
   "execution_count": 128,
   "id": "43e70509",
   "metadata": {},
   "outputs": [
    {
     "data": {
      "text/html": [
       "<div>\n",
       "<style scoped>\n",
       "    .dataframe tbody tr th:only-of-type {\n",
       "        vertical-align: middle;\n",
       "    }\n",
       "\n",
       "    .dataframe tbody tr th {\n",
       "        vertical-align: top;\n",
       "    }\n",
       "\n",
       "    .dataframe thead th {\n",
       "        text-align: right;\n",
       "    }\n",
       "</style>\n",
       "<table border=\"1\" class=\"dataframe\">\n",
       "  <thead>\n",
       "    <tr style=\"text-align: right;\">\n",
       "      <th></th>\n",
       "      <th>model_name</th>\n",
       "      <th>r2-score</th>\n",
       "    </tr>\n",
       "  </thead>\n",
       "  <tbody>\n",
       "    <tr>\n",
       "      <th>2</th>\n",
       "      <td>Ridge</td>\n",
       "      <td>0.877990</td>\n",
       "    </tr>\n",
       "    <tr>\n",
       "      <th>0</th>\n",
       "      <td>LinearRegression</td>\n",
       "      <td>0.877824</td>\n",
       "    </tr>\n",
       "    <tr>\n",
       "      <th>7</th>\n",
       "      <td>CatBoosting Regressor</td>\n",
       "      <td>0.854830</td>\n",
       "    </tr>\n",
       "    <tr>\n",
       "      <th>5</th>\n",
       "      <td>Random Forest Regressor</td>\n",
       "      <td>0.849985</td>\n",
       "    </tr>\n",
       "    <tr>\n",
       "      <th>6</th>\n",
       "      <td>XGBRegressor</td>\n",
       "      <td>0.836290</td>\n",
       "    </tr>\n",
       "    <tr>\n",
       "      <th>8</th>\n",
       "      <td>AdaBoost Regressor</td>\n",
       "      <td>0.834867</td>\n",
       "    </tr>\n",
       "    <tr>\n",
       "      <th>1</th>\n",
       "      <td>Lasso</td>\n",
       "      <td>0.820027</td>\n",
       "    </tr>\n",
       "    <tr>\n",
       "      <th>3</th>\n",
       "      <td>K-Neighbors Regressor</td>\n",
       "      <td>0.793207</td>\n",
       "    </tr>\n",
       "    <tr>\n",
       "      <th>4</th>\n",
       "      <td>Decision Tree</td>\n",
       "      <td>0.756332</td>\n",
       "    </tr>\n",
       "  </tbody>\n",
       "</table>\n",
       "</div>"
      ],
      "text/plain": [
       "                model_name  r2-score\n",
       "2                    Ridge  0.877990\n",
       "0         LinearRegression  0.877824\n",
       "7    CatBoosting Regressor  0.854830\n",
       "5  Random Forest Regressor  0.849985\n",
       "6             XGBRegressor  0.836290\n",
       "8       AdaBoost Regressor  0.834867\n",
       "1                    Lasso  0.820027\n",
       "3    K-Neighbors Regressor  0.793207\n",
       "4            Decision Tree  0.756332"
      ]
     },
     "execution_count": 128,
     "metadata": {},
     "output_type": "execute_result"
    }
   ],
   "source": [
    "pd.DataFrame(list(zip(model_list,r2_list)),columns=['model_name','r2-score']).sort_values( by =['r2-score'],ascending=False)"
   ]
  },
  {
   "cell_type": "code",
   "execution_count": 132,
   "id": "1a77a69a",
   "metadata": {},
   "outputs": [
    {
     "name": "stdout",
     "output_type": "stream",
     "text": [
      "accuracy: 87.78243107659013\n"
     ]
    }
   ],
   "source": [
    "lin_model = LinearRegression(fit_intercept=True)\n",
    "lin_model=lin_model.fit(x_train,y_train)\n",
    "y_pred =lin_model.predict(x_test)\n",
    "r2 = r2_score(y_test,y_pred)*100\n",
    "print(f'accuracy: {r2}')\n",
    "\n"
   ]
  },
  {
   "cell_type": "code",
   "execution_count": 135,
   "id": "772d4501",
   "metadata": {},
   "outputs": [
    {
     "data": {
      "image/png": "[encoded data removed]",
      "text/plain": [
       "<Figure size 640x480 with 1 Axes>"
      ]
     },
     "metadata": {},
     "output_type": "display_data"
    }
   ],
   "source": [
    "plt.scatter(y_test,y_pred);\n",
    "plt.xlabel('Actual');\n",
    "plt.ylabel('Predicted');\n"
   ]
  },
  {
   "cell_type": "code",
   "execution_count": 136,
   "id": "833248c4",
   "metadata": {},
   "outputs": [
    {
     "data": {
      "image/png": "[encoded data removed]",
      "text/plain": [
       "<Figure size 640x480 with 1 Axes>"
      ]
     },
     "metadata": {},
     "output_type": "display_data"
    }
   ],
   "source": [
    "sns.regplot(x=y_test,y=y_pred,ci=None,color ='red');"
   ]
  },
  {
   "cell_type": "code",
   "execution_count": 137,
   "id": "eca90b7f",
   "metadata": {},
   "outputs": [
    {
     "data": {
      "text/html": [
       "<div>\n",
       "<style scoped>\n",
       "    .dataframe tbody tr th:only-of-type {\n",
       "        vertical-align: middle;\n",
       "    }\n",
       "\n",
       "    .dataframe tbody tr th {\n",
       "        vertical-align: top;\n",
       "    }\n",
       "\n",
       "    .dataframe thead th {\n",
       "        text-align: right;\n",
       "    }\n",
       "</style>\n",
       "<table border=\"1\" class=\"dataframe\">\n",
       "  <thead>\n",
       "    <tr style=\"text-align: right;\">\n",
       "      <th></th>\n",
       "      <th>Actual Value</th>\n",
       "      <th>Predicted Value</th>\n",
       "      <th>Difference</th>\n",
       "    </tr>\n",
       "  </thead>\n",
       "  <tbody>\n",
       "    <tr>\n",
       "      <th>521</th>\n",
       "      <td>91</td>\n",
       "      <td>76.415556</td>\n",
       "      <td>14.584444</td>\n",
       "    </tr>\n",
       "    <tr>\n",
       "      <th>737</th>\n",
       "      <td>53</td>\n",
       "      <td>58.835356</td>\n",
       "      <td>-5.835356</td>\n",
       "    </tr>\n",
       "    <tr>\n",
       "      <th>740</th>\n",
       "      <td>80</td>\n",
       "      <td>76.907370</td>\n",
       "      <td>3.092630</td>\n",
       "    </tr>\n",
       "    <tr>\n",
       "      <th>660</th>\n",
       "      <td>74</td>\n",
       "      <td>76.760032</td>\n",
       "      <td>-2.760032</td>\n",
       "    </tr>\n",
       "    <tr>\n",
       "      <th>411</th>\n",
       "      <td>84</td>\n",
       "      <td>87.454007</td>\n",
       "      <td>-3.454007</td>\n",
       "    </tr>\n",
       "    <tr>\n",
       "      <th>...</th>\n",
       "      <td>...</td>\n",
       "      <td>...</td>\n",
       "      <td>...</td>\n",
       "    </tr>\n",
       "    <tr>\n",
       "      <th>109</th>\n",
       "      <td>70</td>\n",
       "      <td>64.035129</td>\n",
       "      <td>5.964871</td>\n",
       "    </tr>\n",
       "    <tr>\n",
       "      <th>430</th>\n",
       "      <td>64</td>\n",
       "      <td>63.158496</td>\n",
       "      <td>0.841504</td>\n",
       "    </tr>\n",
       "    <tr>\n",
       "      <th>77</th>\n",
       "      <td>80</td>\n",
       "      <td>82.733853</td>\n",
       "      <td>-2.733853</td>\n",
       "    </tr>\n",
       "    <tr>\n",
       "      <th>84</th>\n",
       "      <td>42</td>\n",
       "      <td>39.387374</td>\n",
       "      <td>2.612626</td>\n",
       "    </tr>\n",
       "    <tr>\n",
       "      <th>286</th>\n",
       "      <td>97</td>\n",
       "      <td>93.727782</td>\n",
       "      <td>3.272218</td>\n",
       "    </tr>\n",
       "  </tbody>\n",
       "</table>\n",
       "<p>250 rows × 3 columns</p>\n",
       "</div>"
      ],
      "text/plain": [
       "     Actual Value  Predicted Value  Difference\n",
       "521            91        76.415556   14.584444\n",
       "737            53        58.835356   -5.835356\n",
       "740            80        76.907370    3.092630\n",
       "660            74        76.760032   -2.760032\n",
       "411            84        87.454007   -3.454007\n",
       "..            ...              ...         ...\n",
       "109            70        64.035129    5.964871\n",
       "430            64        63.158496    0.841504\n",
       "77             80        82.733853   -2.733853\n",
       "84             42        39.387374    2.612626\n",
       "286            97        93.727782    3.272218\n",
       "\n",
       "[250 rows x 3 columns]"
      ]
     },
     "execution_count": 137,
     "metadata": {},
     "output_type": "execute_result"
    }
   ],
   "source": [
    "pred_df=pd.DataFrame({'Actual Value':y_test,'Predicted Value':y_pred,'Difference':y_test-y_pred})\n",
    "pred_df"
   ]
  }
 ],
 "metadata": {
  "kernelspec": {
   "display_name": "Python 3",
   "language": "python",
   "name": "python3"
  },
  "language_info": {
   "codemirror_mode": {
    "name": "ipython",
    "version": 3
   },
   "file_extension": ".py",
   "mimetype": "text/x-python",
   "name": "python",
   "nbconvert_exporter": "python",
   "pygments_lexer": "ipython3",
   "version": "3.12.10"
  }
 },
 "nbformat": 4,
 "nbformat_minor": 5
}
